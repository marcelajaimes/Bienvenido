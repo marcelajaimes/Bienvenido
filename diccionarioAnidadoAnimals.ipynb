{
  "nbformat": 4,
  "nbformat_minor": 0,
  "metadata": {
    "colab": {
      "provenance": [],
      "authorship_tag": "ABX9TyM008ucr13Xvj0BNWMET+2R",
      "include_colab_link": true
    },
    "kernelspec": {
      "name": "python3",
      "display_name": "Python 3"
    },
    "language_info": {
      "name": "python"
    }
  },
  "cells": [
    {
      "cell_type": "markdown",
      "metadata": {
        "id": "view-in-github",
        "colab_type": "text"
      },
      "source": [
        "<a href=\"https://colab.research.google.com/github/marcelajaimes/Bienvenido/blob/master/diccionarioAnidadoAnimals.ipynb\" target=\"_parent\"><img src=\"https://colab.research.google.com/assets/colab-badge.svg\" alt=\"Open In Colab\"/></a>"
      ]
    },
    {
      "cell_type": "code",
      "execution_count": 1,
      "metadata": {
        "colab": {
          "base_uri": "https://localhost:8080/"
        },
        "id": "xhMA_AeQPczk",
        "outputId": "3bcf0fd5-18c0-42f3-c775-9afa36edd8c7"
      },
      "outputs": [
        {
          "output_type": "stream",
          "name": "stdout",
          "text": [
            "{'animal': 'Elefante', 'clase': 'mamifero', 'orden': 'probosidea', 'peso al nacer': 11800}\n",
            "{'animal': 'Cocodrilo', 'clase': 'Sauropsida', 'orden': 'probosidea', 'peso al nacer': 85, 'orde': 'grande reptiles subacuticos'}\n",
            "{'animal': 'Ballena', 'clase': 'mamifero', 'orden': 'cetacea', 'peso al nacer': 2500000, 'orde': 'grande reptiles subacuticos'}\n"
          ]
        }
      ],
      "source": [
        "animals={}\n",
        "animal1={ 'animal':'Elefante',\n",
        "          'clase': 'mamifero', \n",
        "          'orden':'probosidea',\n",
        "          'peso al nacer':11800}\n",
        "animal2={ 'animal': 'Cocodrilo',\n",
        "           'clase': 'Sauropsida', \n",
        "           'orde':'grande reptiles subacuticos', \n",
        "           'peso al nacer':85}\n",
        "animal3={ 'animal': 'Ballena',\n",
        "           'clase': 'mamifero', \n",
        "           'orden': 'cetacea', \n",
        "           'peso al nacer': 2500000}\n",
        "animals.update(animal1)\n",
        "print (animals)\n",
        "animals.update(animal2)\n",
        "print(animals)\n",
        "animals.update(animal3)\n",
        "print(animals)\n"
      ]
    }
  ]
}