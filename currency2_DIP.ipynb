{
  "nbformat": 4,
  "nbformat_minor": 0,
  "metadata": {
    "colab": {
      "provenance": [],
      "authorship_tag": "ABX9TyNoXv0+hqLQzmX70msoW2QE",
      "include_colab_link": true
    },
    "kernelspec": {
      "name": "python3",
      "display_name": "Python 3"
    },
    "language_info": {
      "name": "python"
    }
  },
  "cells": [
    {
      "cell_type": "markdown",
      "metadata": {
        "id": "view-in-github",
        "colab_type": "text"
      },
      "source": [
        "<a href=\"https://colab.research.google.com/github/marcelajaimes/Bienvenido/blob/master/currency2_DIP.ipynb\" target=\"_parent\"><img src=\"https://colab.research.google.com/assets/colab-badge.svg\" alt=\"Open In Colab\"/></a>"
      ]
    },
    {
      "cell_type": "code",
      "execution_count": 1,
      "metadata": {
        "colab": {
          "base_uri": "https://localhost:8080/"
        },
        "id": "cFoS9cu_ITo5",
        "outputId": "70cd6801-7da4-4cbf-87c9-9701baa91455"
      },
      "outputs": [
        {
          "output_type": "stream",
          "name": "stdout",
          "text": [
            "Converting currency using Alpha API\n",
            "140 USD = 672000 COL\n",
            "Converting currency using FX API\n",
            "80 EUR = 96.0 USD\n"
          ]
        }
      ],
      "source": [
        "from abc import ABC\n",
        "class CurrencyConverter(ABC):\n",
        "    def convert(self, from_currency, to_currency, amount) -> float:\n",
        "        pass\n",
        "class FXConverter(CurrencyConverter):\n",
        "    def convert(self, from_currency, to_currency, amount) -> float:\n",
        "        print('Converting currency using FX API')\n",
        "        print(f'{amount} {from_currency} = {amount * 1.2} {to_currency}')\n",
        "        return amount*1.2\n",
        "\n",
        "\n",
        "class AlphaConverter(CurrencyConverter):\n",
        "    def convert(self, from_currency, to_currency, amount) -> float:\n",
        "        print('Converting currency using Alpha API')\n",
        "        print(f'{amount} {from_currency} = {amount * 4800} {to_currency}')\n",
        "        return amount*4353\n",
        "\n",
        "\n",
        "class App:\n",
        "    def __init__(self, converter: CurrencyConverter, from_currency, to_curency, amount):\n",
        "        self.converter = converter\n",
        "        self.from_currency= from_currency\n",
        "        self.to_currency=to_curency\n",
        "        self.amount=amount\n",
        "\n",
        "    def start(self):\n",
        "        self.converter.convert(self.from_currency, self.to_currency,self.amount )\n",
        "        \n",
        "if __name__ == '__main__':\n",
        "    converter = AlphaConverter()\n",
        "    app = App(converter, 'USD', 'COL', 140)\n",
        "    app.start()\n",
        "    converter2= FXConverter()\n",
        "    app2= App(converter2, 'EUR', 'USD', 80)\n",
        "    app2.start()\n",
        "\n"
      ]
    }
  ]
}