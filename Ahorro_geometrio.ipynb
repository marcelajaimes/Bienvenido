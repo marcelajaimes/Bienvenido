{
  "nbformat": 4,
  "nbformat_minor": 0,
  "metadata": {
    "colab": {
      "provenance": [],
      "authorship_tag": "ABX9TyP186TxCYJHG2VoKZ1urO9i",
      "include_colab_link": true
    },
    "kernelspec": {
      "name": "python3",
      "display_name": "Python 3"
    },
    "language_info": {
      "name": "python"
    }
  },
  "cells": [
    {
      "cell_type": "markdown",
      "metadata": {
        "id": "view-in-github",
        "colab_type": "text"
      },
      "source": [
        "<a href=\"https://colab.research.google.com/github/marcelajaimes/Bienvenido/blob/master/Ahorro_geometrio.ipynb\" target=\"_parent\"><img src=\"https://colab.research.google.com/assets/colab-badge.svg\" alt=\"Open In Colab\"/></a>"
      ]
    },
    {
      "cell_type": "code",
      "execution_count": 1,
      "metadata": {
        "colab": {
          "base_uri": "https://localhost:8080/"
        },
        "id": "QMintpaBOHSa",
        "outputId": "17d23128-897c-4ed5-8bad-dc78509effab"
      },
      "outputs": [
        {
          "output_type": "stream",
          "name": "stdout",
          "text": [
            "digite el valor a depositar en el mes85000\n",
            "digite el valor a depositar en el mes115000\n",
            "digite el valor a depositar en el mes225000\n",
            "digite el valor a depositar en el mes110000\n",
            "digite el valor a depositar en el mes98000\n",
            "digite el valor a depositar en el mes78000\n",
            "la cantidad acumulada en su ahorro semestral es de:  711000\n"
          ]
        }
      ],
      "source": [
        "ahorro=0\n",
        "for i in range(6):\n",
        "    deposito=int(input('digite el valor a depositar en el mes'))\n",
        "    ahorro+=deposito\n",
        "    ahorro*1.10\n",
        "print('la cantidad acumulada en su ahorro semestral es de: ', ahorro)"
      ]
    }
  ]
}