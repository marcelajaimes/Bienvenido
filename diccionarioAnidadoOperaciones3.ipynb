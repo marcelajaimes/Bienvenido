{
  "nbformat": 4,
  "nbformat_minor": 0,
  "metadata": {
    "colab": {
      "provenance": [],
      "authorship_tag": "ABX9TyPqCDkuJmhwrGew7mr02oxw",
      "include_colab_link": true
    },
    "kernelspec": {
      "name": "python3",
      "display_name": "Python 3"
    },
    "language_info": {
      "name": "python"
    }
  },
  "cells": [
    {
      "cell_type": "markdown",
      "metadata": {
        "id": "view-in-github",
        "colab_type": "text"
      },
      "source": [
        "<a href=\"https://colab.research.google.com/github/marcelajaimes/Bienvenido/blob/master/diccionarioAnidadoOperaciones3.ipynb\" target=\"_parent\"><img src=\"https://colab.research.google.com/assets/colab-badge.svg\" alt=\"Open In Colab\"/></a>"
      ]
    },
    {
      "cell_type": "code",
      "execution_count": 1,
      "metadata": {
        "colab": {
          "base_uri": "https://localhost:8080/"
        },
        "id": "k3JUZzgYZBvz",
        "outputId": "2923813e-c2b4-42e3-a123-2a27ae1815b4"
      },
      "outputs": [
        {
          "output_type": "stream",
          "name": "stdout",
          "text": [
            "elfante:118000\n",
            "Cocodrilo:85\n",
            "ballena:2500000\n"
          ]
        }
      ],
      "source": [
        "animals = {\n",
        "    'elfante':{'clase': 'mamiferos',\n",
        "               'orden': 'probosidea',\n",
        "               'peso_nacer': 118000\n",
        "\n",
        "               },\n",
        "    'Cocodrilo': {'clase': 'Sauropsida', \n",
        "              'orden': 'grandes reptiles predadores semiacuaticos',\n",
        "              'peso_nacer':85,\n",
        "              \n",
        "                  },\n",
        "    'ballena': {'clase': 'mamiferos', \n",
        "                 'orden':'cetacea', \n",
        "                 'peso_nacer':2500000\n",
        "                 \n",
        "               }\n",
        "    }\n",
        "for key, value in animals.items():\n",
        "    print ('{}:{}'.format (key,value['peso_nacer']))"
      ]
    }
  ]
}