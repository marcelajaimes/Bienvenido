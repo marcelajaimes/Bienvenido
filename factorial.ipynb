{
  "nbformat": 4,
  "nbformat_minor": 0,
  "metadata": {
    "colab": {
      "provenance": [],
      "authorship_tag": "ABX9TyMDPscTWacMvUtwklHfh0eb",
      "include_colab_link": true
    },
    "kernelspec": {
      "name": "python3",
      "display_name": "Python 3"
    },
    "language_info": {
      "name": "python"
    }
  },
  "cells": [
    {
      "cell_type": "markdown",
      "metadata": {
        "id": "view-in-github",
        "colab_type": "text"
      },
      "source": [
        "<a href=\"https://colab.research.google.com/github/marcelajaimes/Bienvenido/blob/master/factorial.ipynb\" target=\"_parent\"><img src=\"https://colab.research.google.com/assets/colab-badge.svg\" alt=\"Open In Colab\"/></a>"
      ]
    },
    {
      "cell_type": "code",
      "execution_count": 1,
      "metadata": {
        "colab": {
          "base_uri": "https://localhost:8080/"
        },
        "id": "amqOCk7qLNPs",
        "outputId": "4898478a-32d0-43f4-90d0-3031ec3df13e"
      },
      "outputs": [
        {
          "output_type": "stream",
          "name": "stdout",
          "text": [
            "Digite el numero al que desea obtener el factorial: 4\n",
            "24\n"
          ]
        }
      ],
      "source": [
        "def factorial(numero):\n",
        "    if numero==1:\n",
        "        return 1\n",
        "    else:\n",
        "        numero*=factorial(numero-1)\n",
        "    return numero\n",
        "numero_factorial=int(input('Digite el numero al que desea obtener el factorial: '))\n",
        "factorial(numero_factorial)\n",
        "print(factorial(numero_factorial))"
      ]
    }
  ]
}