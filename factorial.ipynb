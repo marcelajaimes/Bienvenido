{
  "nbformat": 4,
  "nbformat_minor": 0,
  "metadata": {
    "colab": {
      "provenance": [],
      "authorship_tag": "ABX9TyOzpN6+dH2uLtOGDOm/dx/2",
      "include_colab_link": true
    },
    "kernelspec": {
      "name": "python3",
      "display_name": "Python 3"
    },
    "language_info": {
      "name": "python"
    }
  },
  "cells": [
    {
      "cell_type": "markdown",
      "metadata": {
        "id": "view-in-github",
        "colab_type": "text"
      },
      "source": [
        "<a href=\"https://colab.research.google.com/github/marcelajaimes/Bienvenido/blob/master/factorial.ipynb\" target=\"_parent\"><img src=\"https://colab.research.google.com/assets/colab-badge.svg\" alt=\"Open In Colab\"/></a>"
      ]
    },
    {
      "cell_type": "code",
      "execution_count": 2,
      "metadata": {
        "colab": {
          "base_uri": "https://localhost:8080/"
        },
        "id": "qbi8X0hOChdL",
        "outputId": "a017db9e-f2b2-4f5c-b27b-ae59a46cd5fe"
      },
      "outputs": [
        {
          "output_type": "stream",
          "name": "stdout",
          "text": [
            "Digite el numero a clacular el factorial3\n",
            "el numero a clacular el factorial:  3\n",
            "el numero a clacular el factorial:  2\n",
            "el numero a clacular el factorial:  1\n",
            "6\n"
          ]
        }
      ],
      "source": [
        "def factorial(numero):\n",
        "  print('el numero a clacular el factorial: ', numero)\n",
        "  if numero==1:\n",
        "    return 1\n",
        "  else:\n",
        "    numero*=factorial(numero-1)\n",
        "  return numero\n",
        "numero=int(input('Digite el numero a clacular el factorial'))\n",
        "print(factorial(numero))\n"
      ]
    }
  ]
}