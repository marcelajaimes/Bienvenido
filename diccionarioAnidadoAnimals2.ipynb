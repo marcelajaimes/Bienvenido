{
  "nbformat": 4,
  "nbformat_minor": 0,
  "metadata": {
    "colab": {
      "provenance": [],
      "authorship_tag": "ABX9TyMn5MNzqWaGXkOdS+jCQ2vh",
      "include_colab_link": true
    },
    "kernelspec": {
      "name": "python3",
      "display_name": "Python 3"
    },
    "language_info": {
      "name": "python"
    }
  },
  "cells": [
    {
      "cell_type": "markdown",
      "metadata": {
        "id": "view-in-github",
        "colab_type": "text"
      },
      "source": [
        "<a href=\"https://colab.research.google.com/github/marcelajaimes/Bienvenido/blob/master/diccionarioAnidadoAnimals2.ipynb\" target=\"_parent\"><img src=\"https://colab.research.google.com/assets/colab-badge.svg\" alt=\"Open In Colab\"/></a>"
      ]
    },
    {
      "cell_type": "code",
      "execution_count": 1,
      "metadata": {
        "colab": {
          "base_uri": "https://localhost:8080/"
        },
        "id": "yB8YRH3AT_4f",
        "outputId": "249bf398-200a-48ee-d3b5-5e17be0b7591"
      },
      "outputs": [
        {
          "output_type": "stream",
          "name": "stdout",
          "text": [
            "Elefante \n",
            "\n",
            "Cocodrilo \n",
            "\n",
            "Ballena \n",
            "\n"
          ]
        }
      ],
      "source": [
        "animals={\n",
        "    'Elefante': {'clase':'Mamimefero', \n",
        "                 'orden': 'Probosidea', \n",
        "                 'peso al nacer': 11800},\n",
        "    'Cocodrilo':{'clase':'Sauropsida', \n",
        "                 'orden': 'Grandes Reptiles Predadores Semiacuaticos', \n",
        "                 'peso al nacer': 85},\n",
        "    'Ballena':  {'clase':'Mamimefero', \n",
        "                 'orden': 'Cetacea', \n",
        "                 'peso al nacer': 2500000}\n",
        "    }\n",
        "for k,v in animals.items():\n",
        "    print(k, '\\n')"
      ]
    }
  ]
}