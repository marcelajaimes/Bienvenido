{
  "nbformat": 4,
  "nbformat_minor": 0,
  "metadata": {
    "colab": {
      "provenance": [],
      "authorship_tag": "ABX9TyMLEt2wO0kzLyhNzVL95giW",
      "include_colab_link": true
    },
    "kernelspec": {
      "name": "python3",
      "display_name": "Python 3"
    },
    "language_info": {
      "name": "python"
    }
  },
  "cells": [
    {
      "cell_type": "markdown",
      "metadata": {
        "id": "view-in-github",
        "colab_type": "text"
      },
      "source": [
        "<a href=\"https://colab.research.google.com/github/marcelajaimes/Bienvenido/blob/master/diccionarioAnidadoAnimalsOperaciones1.ipynb\" target=\"_parent\"><img src=\"https://colab.research.google.com/assets/colab-badge.svg\" alt=\"Open In Colab\"/></a>"
      ]
    },
    {
      "cell_type": "code",
      "execution_count": 1,
      "metadata": {
        "colab": {
          "base_uri": "https://localhost:8080/"
        },
        "id": "hU9evGClVQNs",
        "outputId": "4c83eebb-5498-41eb-af0d-5fb60e8ba68a"
      },
      "outputs": [
        {
          "output_type": "stream",
          "name": "stdout",
          "text": [
            "Elefante es mamifero\n",
            "Ballena es mamifero\n"
          ]
        }
      ],
      "source": [
        "animals={\n",
        "    'Elefante': {'clase':'Mamifero', \n",
        "                 'orden': 'Probosidea', \n",
        "                 'peso al nacer': 11800},\n",
        "    'Cocodrilo':{'clase':'Sauropsida', \n",
        "                 'orden': 'Grandes Reptiles Predadores Semiacuaticos', \n",
        "                 'peso al nacer': 85},\n",
        "    'Ballena':  {'clase':'Mamifero', \n",
        "                 'orden': 'Cetacea', \n",
        "                 'peso al nacer': 2500000}\n",
        "    }\n",
        "for k,v in animals.items():\n",
        "    if v['clase']=='Mamifero':\n",
        "        print(k, 'es mamifero')"
      ]
    }
  ]
}