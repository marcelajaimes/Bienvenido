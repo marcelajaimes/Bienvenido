{
  "nbformat": 4,
  "nbformat_minor": 0,
  "metadata": {
    "colab": {
      "provenance": [],
      "authorship_tag": "ABX9TyPq5lITqGXV589g0kfdapTs",
      "include_colab_link": true
    },
    "kernelspec": {
      "name": "python3",
      "display_name": "Python 3"
    },
    "language_info": {
      "name": "python"
    }
  },
  "cells": [
    {
      "cell_type": "markdown",
      "metadata": {
        "id": "view-in-github",
        "colab_type": "text"
      },
      "source": [
        "<a href=\"https://colab.research.google.com/github/marcelajaimes/Bienvenido/blob/master/Enfermero.ipynb\" target=\"_parent\"><img src=\"https://colab.research.google.com/assets/colab-badge.svg\" alt=\"Open In Colab\"/></a>"
      ]
    },
    {
      "cell_type": "code",
      "execution_count": 1,
      "metadata": {
        "colab": {
          "base_uri": "https://localhost:8080/"
        },
        "id": "5rmacrvEpd_h",
        "outputId": "99960400-9d6b-4c14-a1df-2d3aed00a60c"
      },
      "outputs": [
        {
          "output_type": "stream",
          "name": "stdout",
          "text": [
            "see you soon Beatriz\n",
            "Lo sentimos aun no eres apto para cuidar pacientes senior Beatriz\n",
            "Felicidades este agno ya tendras:  53\n",
            "see you soon Tomas\n",
            "Felicitaciones, eres apto para cuidar pacientes senior Tomas\n",
            "Felicidades este agno ya tendras:  39\n"
          ]
        }
      ],
      "source": [
        "class Persona:\n",
        "    def __init__(self, nombre, edad, peso, estatura, tarjeta_profesional):\n",
        "        self.nombre= nombre\n",
        "        self.edad= edad\n",
        "        self.peso= peso\n",
        "        self.estatura= estatura\n",
        "        self.tarjeta_profesional = tarjeta_profesional\n",
        "    def saluda(self):\n",
        "        print('see you soon', self.nombre)\n",
        "    def cumpleagnos(self):\n",
        "        print('Felicidades este agno ya tendras: ', self.edad +1)\n",
        "class Enfermero(Persona):\n",
        "   \n",
        "   \n",
        "    def asistir_geriatrico(self):\n",
        "        if (self.tarjeta_profesional==True) and (self.edad <=40):\n",
        "            print('Felicitaciones, eres apto para cuidar pacientes senior', self.nombre)\n",
        "        else:\n",
        "            print('Lo sentimos aun no eres apto para cuidar pacientes senior', self.nombre)\n",
        "enfermera1= Enfermero('Andrea',23, 59, 1.59, False)\n",
        "enfermera2=Enfermero('Beatriz', 52, 59, 1.60, True)\n",
        "enfermero3=Enfermero('Tomas', 38, 68, 1.65, True)\n",
        "enfermero4=Enfermero('Sergio', 23, 75, 1.89, False)\n",
        "enfermera2.saluda()\n",
        "enfermera2.asistir_geriatrico()\n",
        "enfermera2.cumpleagnos()\n",
        "enfermero3.saluda()\n",
        "enfermero3.asistir_geriatrico()\n",
        "enfermero3.cumpleagnos()"
      ]
    }
  ]
}