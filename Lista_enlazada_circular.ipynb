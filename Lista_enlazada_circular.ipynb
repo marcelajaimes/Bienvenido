{
  "nbformat": 4,
  "nbformat_minor": 0,
  "metadata": {
    "colab": {
      "provenance": [],
      "authorship_tag": "ABX9TyOHxuIf8ya6R0b5MMSRferL",
      "include_colab_link": true
    },
    "kernelspec": {
      "name": "python3",
      "display_name": "Python 3"
    },
    "language_info": {
      "name": "python"
    }
  },
  "cells": [
    {
      "cell_type": "markdown",
      "metadata": {
        "id": "view-in-github",
        "colab_type": "text"
      },
      "source": [
        "<a href=\"https://colab.research.google.com/github/marcelajaimes/Bienvenido/blob/master/Lista_enlazada_circular.ipynb\" target=\"_parent\"><img src=\"https://colab.research.google.com/assets/colab-badge.svg\" alt=\"Open In Colab\"/></a>"
      ]
    },
    {
      "cell_type": "code",
      "execution_count": 1,
      "metadata": {
        "colab": {
          "base_uri": "https://localhost:8080/"
        },
        "id": "oQOyy9tRcT4J",
        "outputId": "50c2c1b0-d96d-4ca3-9d99-3454e8b710dc"
      },
      "outputs": [
        {
          "output_type": "stream",
          "name": "stdout",
          "text": [
            "0   python\n",
            "1   C#\n",
            "2   Java\n",
            "3   JavaScript\n",
            "4   python\n",
            "5   C#\n"
          ]
        }
      ],
      "source": [
        "class Node():\n",
        "    def __init__(self, data:str):\n",
        "        super().__init__()\n",
        "        self.data: str = data\n",
        "        self.next: Node= None\n",
        "        self.prev: Node= None\n",
        "\n",
        "class Circular_List():\n",
        "    def __init__(self):\n",
        "        self.head: Node= None\n",
        "\n",
        "    def append(self, data:str):\n",
        "        new_node = Node(data)\n",
        "        temp_node=self.head\n",
        "\n",
        "        if temp_node==None:\n",
        "            self.head=new_node\n",
        "            new_node.next= new_node\n",
        "            new_node.prev= new_node\n",
        "            return\n",
        "\n",
        "        temp_node= temp_node.prev\n",
        "        temp_node.next=new_node\n",
        "        new_node.prev=temp_node\n",
        "        new_node.next=self.head\n",
        "        self.head.prev=new_node\n",
        "if __name__ == \"__main__\":\n",
        "    list_double= Circular_List()\n",
        "    list_double.append(\"python\")\n",
        "    list_double.append(\"JavaScript\")\n",
        "    list_double.append(\"Java\")\n",
        "    list_double.append(\"C#\")\n",
        "\n",
        "    temp_node=list_double.head\n",
        "    count=0\n",
        "    while count<6:\n",
        "        print(str(count), \" \", temp_node.data)\n",
        "        temp_node=temp_node.prev\n",
        "        count+=1\n",
        "    \n"
      ]
    }
  ]
}