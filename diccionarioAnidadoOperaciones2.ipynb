{
  "nbformat": 4,
  "nbformat_minor": 0,
  "metadata": {
    "colab": {
      "provenance": [],
      "authorship_tag": "ABX9TyOMZcV0x7+0zZYWYbGlnAFz",
      "include_colab_link": true
    },
    "kernelspec": {
      "name": "python3",
      "display_name": "Python 3"
    },
    "language_info": {
      "name": "python"
    }
  },
  "cells": [
    {
      "cell_type": "markdown",
      "metadata": {
        "id": "view-in-github",
        "colab_type": "text"
      },
      "source": [
        "<a href=\"https://colab.research.google.com/github/marcelajaimes/Bienvenido/blob/master/diccionarioAnidadoOperaciones2.ipynb\" target=\"_parent\"><img src=\"https://colab.research.google.com/assets/colab-badge.svg\" alt=\"Open In Colab\"/></a>"
      ]
    },
    {
      "cell_type": "code",
      "execution_count": 1,
      "metadata": {
        "colab": {
          "base_uri": "https://localhost:8080/"
        },
        "id": "t5MGm7y_YJAU",
        "outputId": "e8762fee-2e0e-468e-a4e4-2f3c7f2e12a3"
      },
      "outputs": [
        {
          "output_type": "stream",
          "name": "stdout",
          "text": [
            "\n",
            "\n",
            "Elefante :\n",
            "Elefante->{'clase': 'Mamifero', 'orden': 'Probosidea', 'peso al nacer': 11800}\n",
            "Cocodrilo->{'clase': 'Sauropsida', 'orden': 'Grandes Reptiles Predadores Semiacuaticos', 'peso al nacer': 85}\n",
            "Ballena->{'clase': 'Mamifero', 'orden': 'Cetacea', 'peso al nacer': 2500000}\n",
            "\n",
            "\n",
            "Cocodrilo :\n",
            "Elefante->{'clase': 'Mamifero', 'orden': 'Probosidea', 'peso al nacer': 11800}\n",
            "Cocodrilo->{'clase': 'Sauropsida', 'orden': 'Grandes Reptiles Predadores Semiacuaticos', 'peso al nacer': 85}\n",
            "Ballena->{'clase': 'Mamifero', 'orden': 'Cetacea', 'peso al nacer': 2500000}\n",
            "\n",
            "\n",
            "Ballena :\n",
            "Elefante->{'clase': 'Mamifero', 'orden': 'Probosidea', 'peso al nacer': 11800}\n",
            "Cocodrilo->{'clase': 'Sauropsida', 'orden': 'Grandes Reptiles Predadores Semiacuaticos', 'peso al nacer': 85}\n",
            "Ballena->{'clase': 'Mamifero', 'orden': 'Cetacea', 'peso al nacer': 2500000}\n"
          ]
        }
      ],
      "source": [
        "animals={\n",
        "    'Elefante': {'clase':'Mamifero', \n",
        "                 'orden': 'Probosidea', \n",
        "                 'peso al nacer': 11800},\n",
        "    'Cocodrilo':{'clase':'Sauropsida', \n",
        "                 'orden': 'Grandes Reptiles Predadores Semiacuaticos', \n",
        "                 'peso al nacer': 85},\n",
        "    'Ballena':  {'clase':'Mamifero', \n",
        "                 'orden': 'Cetacea', \n",
        "                 'peso al nacer': 2500000}\n",
        "    }\n",
        "for key,values in animals.items():\n",
        "    print('\\n')\n",
        "    print(key, ':')\n",
        "    for key, values in animals.items():\n",
        "        print('%s->%s'%(key,values))"
      ]
    }
  ]
}