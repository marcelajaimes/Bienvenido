{
  "nbformat": 4,
  "nbformat_minor": 0,
  "metadata": {
    "colab": {
      "provenance": [],
      "authorship_tag": "ABX9TyOt4Ww1SbZmlsaruTBGq4hD",
      "include_colab_link": true
    },
    "kernelspec": {
      "name": "python3",
      "display_name": "Python 3"
    },
    "language_info": {
      "name": "python"
    }
  },
  "cells": [
    {
      "cell_type": "markdown",
      "metadata": {
        "id": "view-in-github",
        "colab_type": "text"
      },
      "source": [
        "<a href=\"https://colab.research.google.com/github/marcelajaimes/Bienvenido/blob/master/Clase_Persona.ipynb\" target=\"_parent\"><img src=\"https://colab.research.google.com/assets/colab-badge.svg\" alt=\"Open In Colab\"/></a>"
      ]
    },
    {
      "cell_type": "code",
      "execution_count": 1,
      "metadata": {
        "colab": {
          "base_uri": "https://localhost:8080/"
        },
        "id": "0hrtF3aAnm-3",
        "outputId": "bca6e5f0-dcf9-4fa4-f3a0-fad1a099b052"
      },
      "outputs": [
        {
          "output_type": "stream",
          "name": "stdout",
          "text": [
            "Bienvenido al club Juan Diego que tienes 23 años \n"
          ]
        }
      ],
      "source": [
        "class Persona:\n",
        "    def _init_(self, nombre, edad, peso, estatura):\n",
        "        self.nombre= nombre\n",
        "        self.edad = edad\n",
        "        self.peso = peso\n",
        "        self.estatura = estatura\n",
        "\n",
        "    def saludar(self):\n",
        "        print('Bienvenido al club', self.nombre, 'que tienes', self.edad, 'años ')\n",
        "persona= Persona()\n",
        "persona.nombre= 'Juan Diego'\n",
        "persona.edad = 23\n",
        "persona.peso = 70\n",
        "persona.estatura= 1,70\n",
        "persona.saludar()"
      ]
    }
  ]
}